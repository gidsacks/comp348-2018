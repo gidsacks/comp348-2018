{
 "cells": [
  {
   "cell_type": "markdown",
   "metadata": {},
   "source": [
    "# Assignment 1 - Python and NLTK for Text Processing\n",
    "*Submission deadline: Friday 16 March 2018, 11:00pm*\n",
    "\n",
    "## Objectives of this assignment\n",
    "\n",
    "In this assignment you will practice with the use of Python packages for text processing as a first step towards implementing real-world document processing systems.\n",
    "\n",
    "The deadline of this assignment is before census date, so it can serve as a diagnostic test so that you can determine if you want to remain in the unit or withdraw without penalty.\n",
    "\n",
    "Below are the questions of this assignment. They are in the format of a Jupyter notebook so that you can use this notebook to work on your solution. Write the final solution in a standalone Python file as described in the \"submission\" section by the end of these assignment specifications.\n"
   ]
  },
  {
   "cell_type": "code",
   "execution_count": 2,
   "metadata": {},
   "outputs": [
    {
     "name": "stdout",
     "output_type": "stream",
     "text": [
      "[nltk_data] Error loading punkt: <urlopen error [Errno 8] nodename nor\n",
      "[nltk_data]     servname provided, or not known>\n",
      "[nltk_data] Error loading gutenberg: <urlopen error [Errno 8] nodename\n",
      "[nltk_data]     nor servname provided, or not known>\n"
     ]
    },
    {
     "data": {
      "text/plain": [
       "False"
      ]
     },
     "execution_count": 2,
     "metadata": {},
     "output_type": "execute_result"
    }
   ],
   "source": [
    "import nltk\n",
    "nltk.download('punkt')\n",
    "nltk.download('gutenberg')"
   ]
  },
  {
   "cell_type": "code",
   "execution_count": 27,
   "metadata": {},
   "outputs": [
    {
     "data": {
      "text/plain": [
       "['[', 'Emma', 'by', 'Jane', 'Austen', '1816', ']', ...]"
      ]
     },
     "execution_count": 27,
     "metadata": {},
     "output_type": "execute_result"
    }
   ],
   "source": [
    "emma"
   ]
  },
  {
   "cell_type": "markdown",
   "metadata": {},
   "source": [
    "### Word counts (1 mark)\n",
    "Implement a function that returns a vector of word counts in a given text, given a vector of words. For your solution you may use third-party modules if you wish. As part of this exercise you will need to split the text into words. When you do it, please note that NLTK's tokeniser works best when it takes sentences as their input. Thus, to tokenise a text that has multiple sentences it is best first to split the text into sentences, and then tokenise each sentence. Look at the lecture notes and exercises of the week 1 workshop for examples of how to do this."
   ]
  },
  {
   "cell_type": "code",
   "execution_count": 173,
   "metadata": {},
   "outputs": [
    {
     "data": {
      "text/plain": [
       "[4844, 3004]"
      ]
     },
     "execution_count": 173,
     "metadata": {},
     "output_type": "execute_result"
    }
   ],
   "source": [
    "import nltk\n",
    "from nltk.tokenize import sent_tokenize, word_tokenize\n",
    "import string\n",
    "import collections\n",
    "from collections import Counter\n",
    "emma = nltk.corpus.gutenberg.words('austen-emma.txt')\n",
    "def word_counts(text, words):\n",
    "    \n",
    "    if(isinstance(text, str)):\n",
    "        text = word_tokenize(text)\n",
    "        #for x in string.punctuation:\n",
    "            #text= text.replace(x,\"\")\n",
    "        #text = text.split()\n",
    "    #text = word_tokenize(text)\n",
    "    data = Counter(text)\n",
    "    i=0\n",
    "    datacount = {}\n",
    "\n",
    "    for word in words:\n",
    "        datacount[i] = data[word]\n",
    "        i=i+1\n",
    "    return list(datacount.values())\n",
    "  \n",
    "\n",
    "\n",
    "word_counts(emma, ['the', 'a'])\n",
    "#word_counts(\"Here is sentence one. cant can't Here is sentence two.\", ['Here', 'two', 'three', 'cant',\"can't\"])"
   ]
  },
  {
   "cell_type": "markdown",
   "metadata": {},
   "source": [
    "###  PoS counts (1 mark)\n",
    "Implement a function that returns a vector of counts of parts of speech, given a vector of parts of speech. To determine the parts of speech, use NLTK's `pos_tag_sents` function using the `'universal'` tag set. See the lecture notes and practical exercises from week 1 for details of how to use `pos_tag_sents`."
   ]
  },
  {
   "cell_type": "code",
   "execution_count": 46,
   "metadata": {},
   "outputs": [
    {
     "data": {
      "text/plain": [
       "[14524, 35747]"
      ]
     },
     "execution_count": 46,
     "metadata": {},
     "output_type": "execute_result"
    }
   ],
   "source": [
    "emma = nltk.corpus.gutenberg.words('austen-emma.txt')\n",
    "def pos_counts(text, pos_list):\n",
    "    \n",
    "    sorted_text = sorted(text)\n",
    "    sorted_text = [''.join(c for c in s if c not in string.punctuation) for s in sorted_text]\n",
    "    sorted_text = [s for s in sorted_text if s]\n",
    "    text = nltk.pos_tag(sorted_text, tagset=\"universal\")\n",
    "    \n",
    "    datacount = dict()\n",
    "    i=0\n",
    "    j=0\n",
    "    sum=0\n",
    "    for word in pos_list:\n",
    "        i=0\n",
    "        for lists in text:\n",
    "            if(text[i][1]==word):\n",
    "                sum=sum+1\n",
    "            i=i+1\n",
    "        datacount[j] = sum\n",
    "        j=j+1\n",
    "        sum=0\n",
    "    return list(datacount.values())\n",
    "pos_counts(emma, ['DET', 'NOUN'])\n"
   ]
  },
  {
   "cell_type": "code",
   "execution_count": 62,
   "metadata": {
    "collapsed": true,
    "scrolled": false
   },
   "outputs": [],
   "source": [
    "emma = nltk.corpus.gutenberg.words('austen-emma.txt')\n",
    "sorted_emma = sorted(emma)\n",
    "sorted_emma = [''.join(c for c in s if c not in string.punctuation) for s in sorted_emma]\n",
    "sorted_emma = [s for s in sorted_emma if s]\n",
    "#emma = nltk.pos_tag(sorted_emma, tagset=\"universal\")\n",
    "#sorted_emma\n"
   ]
  },
  {
   "cell_type": "markdown",
   "metadata": {},
   "source": [
    "### Readability (1 mark)\n",
    "A popular formula to measure the readability of a document is the [Flesh reading-ease test (FRES)](https://en.wikipedia.org/wiki/Flesch%E2%80%93Kincaid_readability_tests), which gives higher scores to texts that are easier to read. According to Wikipedia, the formula is: \n",
    "\n",
    "![formula](https://wikimedia.org/api/rest_v1/media/math/render/svg/bd4916e193d2f96fa3b74ee258aaa6fe242e110e)\n",
    "\n",
    "Write a function that returns the FRES of a text. To help you in this exercise, below is a simple function that you can use to approximate the number of syllables in a word. This function is based on the calculation of the word length used for the [Porter stemmer](https://tartarus.org/martin/PorterStemmer/def.txt):"
   ]
  },
  {
   "cell_type": "code",
   "execution_count": 67,
   "metadata": {
    "collapsed": true
   },
   "outputs": [],
   "source": [
    "import re\n",
    "VC = re.compile('[aeiou]+[^aeiou]+', re.I)\n",
    "def count_syllables(word):\n",
    "    return len(VC.findall(word))"
   ]
  },
  {
   "cell_type": "code",
   "execution_count": 78,
   "metadata": {},
   "outputs": [
    {
     "data": {
      "text/plain": [
       "99.40303015606355"
      ]
     },
     "execution_count": 78,
     "metadata": {},
     "output_type": "execute_result"
    }
   ],
   "source": [
    "def compute_fres(text):\n",
    "    \n",
    "    words = nltk.word_tokenize(text)\n",
    "    sentences = nltk.sent_tokenize(text)\n",
    "        \n",
    "    total_words =0\n",
    "    total_sentences=0\n",
    "    total_syllables=0\n",
    "\n",
    "    for word in words:\n",
    "        total_words = total_words+1\n",
    "        total_syllables = total_syllables+ count_syllables(word)\n",
    "    \n",
    "    for sentence in sentences:\n",
    "        total_sentences=total_sentences+1\n",
    "    \n",
    "    return (206.835 - 1.015*(total_words/total_sentences)-84.6*(total_syllables/total_words))\n",
    "emma = nltk.corpus.gutenberg.raw('austen-emma.txt')\n",
    "compute_fres(emma)"
   ]
  },
  {
   "cell_type": "markdown",
   "metadata": {},
   "source": [
    "### Advanced task (2 marks)"
   ]
  },
  {
   "cell_type": "markdown",
   "metadata": {},
   "source": [
    "During the last practical exercises of week 1 you were asked to identify all the cardinal numbers in a list of tokens. In this advanced task, you will need to identify all the **ordinal numbers** such as \"first\", \"22nd\", etc. We will use the Brown corpus, which, as you know, is annotated with the parts of speech. The Brown corpus tags for ordinal numbers begin with 'OD'. The following code counts all the tokens tagged as ordinal numbers in the \"news\" section of NLTK's Brown corpus:"
   ]
  },
  {
   "cell_type": "code",
   "execution_count": 108,
   "metadata": {},
   "outputs": [
    {
     "name": "stdout",
     "output_type": "stream",
     "text": [
      "[nltk_data] Downloading package brown to\n",
      "[nltk_data]     /Users/gideonsacks/nltk_data...\n",
      "[nltk_data]   Package brown is already up-to-date!\n"
     ]
    }
   ],
   "source": [
    "nltk.download('brown')\n",
    "tagged = nltk.corpus.brown.tagged_words(categories='news')"
   ]
  },
  {
   "cell_type": "code",
   "execution_count": 109,
   "metadata": {},
   "outputs": [
    {
     "data": {
      "text/plain": [
       "Counter({'OD': 309, 'OD-HL': 1, 'OD-TL': 30})"
      ]
     },
     "execution_count": 109,
     "metadata": {},
     "output_type": "execute_result"
    }
   ],
   "source": [
    "import collections\n",
    "c = collections.Counter([t for w, t in tagged if t[:2] == 'OD'])\n",
    "c"
   ]
  },
  {
   "cell_type": "markdown",
   "metadata": {},
   "source": [
    "Implement a function that annotates all ordinal numbers with 'OD' and everything else with the empty string ''. As an example to get you started, you can reuse this code which uses a simple regular expression that tags all tokens that end in 'st' ,'nd', 'rd' and 'th'. The function will correctly label words such as 'first' and 'fifth' but it will incorrectly label words like 'tooth' and 'and':"
   ]
  },
  {
   "cell_type": "code",
   "execution_count": 168,
   "metadata": {},
   "outputs": [],
   "source": [
    "import re\n",
    "def annotateOD(listoftokens):\n",
    "    p = inflect.engine()\n",
    "    word_to_number_mapping = {}\n",
    "    regexp1 = re.compile('.*(st|nd|rd|th)$')\n",
    "    regexp2 = re.compile('.*(1|2|3|4|5|6|7|8|9|0)')\n",
    "    regexp3 = re.compile('.*(-)')\n",
    "    regexp4 = re.compile('.*(fir|seco|thir|four|fif|six|seven|eigh|nin|tenth|evelen|twelv|hundred|thousand|million|billion)')\n",
    "\n",
    "    result = []\n",
    "    for t in listoftokens:\n",
    "        if all (regex.match(t) for regex in [regexp1, regexp2]):\n",
    "            if not regexp3.match(t):\n",
    "                result.append((t, 'OD'))\n",
    "            else:\n",
    "                result.append((t, ''))\n",
    "        else:\n",
    "            if all (regex.match(t) for regex in [regexp1, regexp4]):\n",
    "                result.append((t, 'OD'))\n",
    "            else:\n",
    "                result.append((t, ''))\n",
    "    return result"
   ]
  },
  {
   "cell_type": "code",
   "execution_count": 169,
   "metadata": {},
   "outputs": [
    {
     "data": {
      "text/plain": [
       "['second', '1st']"
      ]
     },
     "execution_count": 169,
     "metadata": {},
     "output_type": "execute_result"
    }
   ],
   "source": [
    "a = annotateOD(['the','second','tooth','1st'])\n",
    "numbers = [w for (w,t) in a if t == 'OD']\n",
    "numbers"
   ]
  },
  {
   "cell_type": "code",
   "execution_count": 170,
   "metadata": {},
   "outputs": [
    {
     "data": {
      "text/plain": [
       "['first',\n",
       " 'first',\n",
       " 'first',\n",
       " 'first',\n",
       " '13th',\n",
       " 'first',\n",
       " 'third',\n",
       " 'first',\n",
       " '58th',\n",
       " '24th',\n",
       " '31st',\n",
       " '21st',\n",
       " '28th',\n",
       " '29th',\n",
       " '18th',\n",
       " '4th',\n",
       " '9th',\n",
       " '58th',\n",
       " 'first',\n",
       " 'first',\n",
       " 'first',\n",
       " 'one-fourth',\n",
       " 'first',\n",
       " 'first',\n",
       " 'first',\n",
       " 'first',\n",
       " 'first',\n",
       " 'first',\n",
       " 'first',\n",
       " 'first',\n",
       " 'first',\n",
       " 'first',\n",
       " 'first',\n",
       " 'first',\n",
       " 'third',\n",
       " 'nineteenth',\n",
       " 'thousand',\n",
       " 'first',\n",
       " 'first',\n",
       " 'third',\n",
       " 'first',\n",
       " '61st',\n",
       " 'second',\n",
       " 'first',\n",
       " '29th',\n",
       " 'first',\n",
       " 'third',\n",
       " 'first',\n",
       " 'third',\n",
       " 'second',\n",
       " 'first',\n",
       " 'first',\n",
       " 'sixth',\n",
       " 'sixth',\n",
       " 'first',\n",
       " 'eighth',\n",
       " 'ninth',\n",
       " 'fifth',\n",
       " 'eighth',\n",
       " 'second',\n",
       " 'ninth',\n",
       " 'fifth',\n",
       " 'second',\n",
       " 'fourth',\n",
       " 'ninth',\n",
       " 'ninth',\n",
       " 'second',\n",
       " 'second',\n",
       " 'first',\n",
       " 'third',\n",
       " 'third',\n",
       " 'first',\n",
       " 'third',\n",
       " 'second',\n",
       " 'third',\n",
       " 'sixth',\n",
       " 'first',\n",
       " 'first',\n",
       " 'sixth',\n",
       " 'first',\n",
       " 'third',\n",
       " 'first',\n",
       " 'second',\n",
       " 'seventh',\n",
       " 'first',\n",
       " 'first',\n",
       " 'twenty-first',\n",
       " 'second',\n",
       " 'fourth',\n",
       " 'first',\n",
       " 'first',\n",
       " 'third',\n",
       " 'first',\n",
       " 'second',\n",
       " 'second',\n",
       " 'third',\n",
       " 'third',\n",
       " 'third',\n",
       " 'first',\n",
       " 'first',\n",
       " 'fifth',\n",
       " 'sixth',\n",
       " 'sixth',\n",
       " 'third',\n",
       " 'ninth',\n",
       " 'fourth',\n",
       " 'third',\n",
       " 'first',\n",
       " 'seventh',\n",
       " 'ninth',\n",
       " 'fourth',\n",
       " 'second',\n",
       " 'second',\n",
       " 'second',\n",
       " 'sixth',\n",
       " 'third',\n",
       " 'sixth',\n",
       " 'first',\n",
       " 'first',\n",
       " 'second',\n",
       " 'fourth',\n",
       " 'fourth',\n",
       " 'first',\n",
       " 'fifth',\n",
       " 'fifth',\n",
       " '25th',\n",
       " 'first',\n",
       " 'first',\n",
       " 'first',\n",
       " '19th',\n",
       " 'first',\n",
       " 'fourth',\n",
       " 'third',\n",
       " 'second',\n",
       " 'third',\n",
       " 'fifth',\n",
       " 'third',\n",
       " 'first',\n",
       " 'thirty-eighth',\n",
       " 'third',\n",
       " 'second',\n",
       " 'first',\n",
       " 'first',\n",
       " 'first',\n",
       " 'seventh',\n",
       " 'first',\n",
       " 'first',\n",
       " 'first',\n",
       " 'first',\n",
       " 'first',\n",
       " 'fifteenth',\n",
       " 'first',\n",
       " 'first',\n",
       " 'first',\n",
       " 'first',\n",
       " 'first',\n",
       " 'second',\n",
       " 'third',\n",
       " 'sixth',\n",
       " 'first',\n",
       " 'first',\n",
       " 'first',\n",
       " 'first',\n",
       " 'first',\n",
       " 'first',\n",
       " 'first',\n",
       " 'second',\n",
       " 'first',\n",
       " 'first',\n",
       " 'first',\n",
       " '51st',\n",
       " '30th',\n",
       " '51st',\n",
       " 'first',\n",
       " 'first',\n",
       " 'third',\n",
       " 'first',\n",
       " 'first',\n",
       " '14th',\n",
       " '14th',\n",
       " 'second',\n",
       " 'first',\n",
       " '50th',\n",
       " 'first',\n",
       " '36th',\n",
       " 'second',\n",
       " 'third',\n",
       " 'second',\n",
       " '3rd',\n",
       " 'first',\n",
       " 'first',\n",
       " 'fifth',\n",
       " 'first',\n",
       " 'first',\n",
       " 'third',\n",
       " 'first',\n",
       " 'first',\n",
       " 'first',\n",
       " 'first',\n",
       " 'first',\n",
       " 'third',\n",
       " '46th',\n",
       " 'first',\n",
       " 'first',\n",
       " 'first',\n",
       " 'first',\n",
       " 'first',\n",
       " 'third',\n",
       " 'first',\n",
       " 'second',\n",
       " 'one-third',\n",
       " 'fourth',\n",
       " 'third',\n",
       " '24th',\n",
       " 'first',\n",
       " 'first',\n",
       " 'seventh',\n",
       " '13th',\n",
       " 'third',\n",
       " 'third',\n",
       " 'second',\n",
       " 'third',\n",
       " '75th',\n",
       " 'first',\n",
       " 'sixth',\n",
       " 'first',\n",
       " 'second',\n",
       " 'first',\n",
       " 'second',\n",
       " 'second',\n",
       " '24th',\n",
       " 'second',\n",
       " 'first',\n",
       " 'first',\n",
       " '50th',\n",
       " '12th',\n",
       " '16th',\n",
       " 'first',\n",
       " '19th',\n",
       " 'first',\n",
       " 'first',\n",
       " 'first',\n",
       " '19th',\n",
       " 'second',\n",
       " '16th',\n",
       " 'first',\n",
       " 'first',\n",
       " 'first',\n",
       " 'third',\n",
       " 'first',\n",
       " 'first',\n",
       " 'second',\n",
       " 'first',\n",
       " 'first',\n",
       " 'second',\n",
       " 'first',\n",
       " 'first',\n",
       " '87th',\n",
       " '87th',\n",
       " 'first',\n",
       " '72nd',\n",
       " 'first',\n",
       " 'first',\n",
       " 'fifth',\n",
       " 'fourth',\n",
       " '10th',\n",
       " '13th',\n",
       " '15th',\n",
       " '15th',\n",
       " '72nd',\n",
       " 'second',\n",
       " 'third',\n",
       " 'fourth',\n",
       " 'second',\n",
       " 'first',\n",
       " '18th',\n",
       " 'first',\n",
       " 'first',\n",
       " 'first',\n",
       " 'second',\n",
       " 'first',\n",
       " '9th',\n",
       " '13th',\n",
       " '15th',\n",
       " '18th',\n",
       " '2nd',\n",
       " '9th',\n",
       " '13th',\n",
       " '16th',\n",
       " '16th',\n",
       " '18th',\n",
       " 'third',\n",
       " 'first',\n",
       " 'first',\n",
       " 'first',\n",
       " '6th',\n",
       " '8th',\n",
       " 'first',\n",
       " 'ninth',\n",
       " '9th',\n",
       " 'first',\n",
       " '9th',\n",
       " 'first',\n",
       " '9th',\n",
       " '9th',\n",
       " '4th',\n",
       " '4th',\n",
       " 'second',\n",
       " 'ninth',\n",
       " 'first',\n",
       " 'fourth',\n",
       " 'first',\n",
       " 'first',\n",
       " 'first',\n",
       " 'thousand',\n",
       " 'first',\n",
       " 'third',\n",
       " 'first',\n",
       " 'first',\n",
       " 'fourth',\n",
       " 'first',\n",
       " 'first',\n",
       " 'first',\n",
       " 'first',\n",
       " 'first',\n",
       " 'third',\n",
       " 'first']"
      ]
     },
     "execution_count": 170,
     "metadata": {},
     "output_type": "execute_result"
    }
   ],
   "source": [
    "#annotateOD(\"the second tooth\".split())\n",
    "#annotateOD(['the','second','tooth','1st'])\n",
    "words = [t for t, w in tagged]\n",
    "taged = annotateOD(words)\n",
    "numbers = [w for (w,t) in taged if t == 'OD']\n",
    "numbers"
   ]
  },
  {
   "cell_type": "markdown",
   "metadata": {},
   "source": [
    "To evaluate the function, the automarking system will compute the F1 score using code like this one:"
   ]
  },
  {
   "cell_type": "code",
   "execution_count": 171,
   "metadata": {
    "collapsed": true
   },
   "outputs": [],
   "source": [
    "def compute_f1(result, tagged):\n",
    "    assert len(result) == len(tagged) # This is a check that the length of the result and tagged are equal\n",
    "    correct = [result[i][0] for i in range(len(result)) if result[i][1][:2] == 'OD' and tagged[i][1][:2] == 'OD']\n",
    "    numbers_result = [result[i][0] for i in range(len(result)) if result[i][1][:2] == 'OD']\n",
    "    numbers_tagged = [tagged[i][0] for i in range(len(tagged)) if tagged[i][1][:2] == 'OD']\n",
    "    if len(numbers_tagged) > 0:\n",
    "        r = len(correct)/len(numbers_tagged)\n",
    "    else:\n",
    "        r = 0.0\n",
    "    if len(numbers_result) > 0:\n",
    "        p = len(correct)/len(numbers_result)\n",
    "    else:\n",
    "        p = 0.0\n",
    "    return 2*r*p/(r+p)"
   ]
  },
  {
   "cell_type": "code",
   "execution_count": 172,
   "metadata": {},
   "outputs": [
    {
     "data": {
      "text/plain": [
       "0.9145427286356821"
      ]
     },
     "execution_count": 172,
     "metadata": {},
     "output_type": "execute_result"
    }
   ],
   "source": [
    "words = [t for t, w in tagged]\n",
    "result = annotateOD(words)\n",
    "compute_f1(result, tagged)"
   ]
  },
  {
   "cell_type": "markdown",
   "metadata": {},
   "source": [
    "A good approach to identify what you could do to increase the F1 score of your system would be to look at the false positives and the false negatives. Feel free to adapt the code from the practical exercises to identify false positives and false negatives.\n",
    "\n",
    "The advanced task will be marked as follows:\n",
    "\n",
    "* F1 > 0.9: 2 marks\n",
    "* F1 > 0.3: 1 mark\n",
    "* F1 < 0.3: 0 marks\n",
    "\n",
    "**Note that your code should not use any large lists of words, and should not use any part of speech taggers.**"
   ]
  },
  {
   "cell_type": "markdown",
   "metadata": {},
   "source": [
    "## Submission\n",
    "Submit a single Python file with the solutions to all the questions. We provide a template defines all the functions as stubs. Make sure that you do not change the names and argument structure of the functions, since the submission will use an automatic marker that relies on these exact names and argument structure. The template we provide includes a few simple tests using [Python's doctest](https://docs.python.org/3/library/doctest.html) environment. These tests are there to help you, but note that we may use a separate set of tests when we assess your submission. It is your responsibility to run your own tests, in addition to the doctests provided.\n",
    "\n",
    "The submission must be a single Python file. Do not submit several files or a zip file since the automarker would not know what to do with your submission.\n",
    "\n",
    "Note that the deadline is a hard deadline and there will be a penalty of one mark per day of late submission. In addition, since the submission date is a week before the census date of 26 of March 2018, late submissions might not be assessed before census date."
   ]
  },
  {
   "cell_type": "code",
   "execution_count": null,
   "metadata": {
    "collapsed": true
   },
   "outputs": [],
   "source": []
  }
 ],
 "metadata": {
  "anaconda-cloud": {},
  "kernelspec": {
   "display_name": "Python 3",
   "language": "python",
   "name": "python3"
  },
  "language_info": {
   "codemirror_mode": {
    "name": "ipython",
    "version": 3
   },
   "file_extension": ".py",
   "mimetype": "text/x-python",
   "name": "python",
   "nbconvert_exporter": "python",
   "pygments_lexer": "ipython3",
   "version": "3.6.1"
  }
 },
 "nbformat": 4,
 "nbformat_minor": 2
}
